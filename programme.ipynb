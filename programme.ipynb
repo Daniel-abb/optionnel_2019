{
 "cells": [
  {
   "cell_type": "markdown",
   "metadata": {},
   "source": [
    "## 10 Septembre 2019\n",
    "--------------------"
   ]
  },
  {
   "cell_type": "markdown",
   "metadata": {},
   "source": [
    "|Programme|\t |\n",
    "|----|---|\n",
    "|9h30-10h|Accueil - finalisation des installations|\n",
    "|10h-10h15|Introduction générale|\n",
    "|10h15-10h30| Table ronde, discussion sur la notion de reproductibilité en science|\n",
    "|10h30-12h30|Introduction à python et début projet python|\n",
    "|12h30-14h|Pause déjeuner|\n",
    "|14h-14h30|Courte introduction à un système de versioning de code : git|\n",
    "|14h30-17h30|Suite projet python, utilisation de git|\n"
   ]
  },
  {
   "cell_type": "markdown",
   "metadata": {},
   "source": [
    "## 11 Septembre 2019\n",
    "--------------------"
   ]
  },
  {
   "cell_type": "markdown",
   "metadata": {},
   "source": [
    "|Programme|\t |\n",
    "|----|---|\n",
    "|9h00-12h|Projet DB analyses d'images avec Python|\n",
    "|12h-13h|Pause déjeuner|\n",
    "|13h-14h| Introduction Literate programming et machine learning|\n",
    "|14h-16h|Suite projet|"
   ]
  }
 ],
 "metadata": {
  "kernelspec": {
   "display_name": "Python 3",
   "language": "python",
   "name": "python3"
  },
  "language_info": {
   "codemirror_mode": {
    "name": "ipython",
    "version": 3
   },
   "file_extension": ".py",
   "mimetype": "text/x-python",
   "name": "python",
   "nbconvert_exporter": "python",
   "pygments_lexer": "ipython3",
   "version": "3.7.3"
  }
 },
 "nbformat": 4,
 "nbformat_minor": 4
}
